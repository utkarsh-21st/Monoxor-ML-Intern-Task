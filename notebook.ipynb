{
  "nbformat": 4,
  "nbformat_minor": 0,
  "metadata": {
    "kernelspec": {
      "display_name": "Python 3",
      "language": "python",
      "name": "python3"
    },
    "language_info": {
      "codemirror_mode": {
        "name": "ipython",
        "version": 3
      },
      "file_extension": ".py",
      "mimetype": "text/x-python",
      "name": "python",
      "nbconvert_exporter": "python",
      "pygments_lexer": "ipython3",
      "version": "3.8.3"
    },
    "colab": {
      "name": "notebook.ipynb",
      "provenance": [],
      "collapsed_sections": [
        "KKPWfuut3XRZ",
        "gD-NeoeVeTWv",
        "jq5LnGDtfLo-",
        "XnG6cE6GXBaT",
        "jy4aAoCrc6Qy",
        "TPXdpFM0ERzJ"
      ],
      "toc_visible": true
    },
    "accelerator": "GPU"
  },
  "cells": [
    {
      "cell_type": "code",
      "metadata": {
        "colab": {
          "base_uri": "https://localhost:8080/"
        },
        "id": "NJgFDGz23pZI",
        "outputId": "bb52509f-1482-4dc5-8743-e01f4000fb1f"
      },
      "source": [
        "# from google.colab import drive\n",
        "# drive.mount('/content/drive')"
      ],
      "execution_count": 1,
      "outputs": [
        {
          "output_type": "stream",
          "text": [
            "Mounted at /content/drive\n"
          ],
          "name": "stdout"
        }
      ]
    },
    {
      "cell_type": "markdown",
      "metadata": {
        "id": "ILjiSmNPFszZ"
      },
      "source": [
        "### Load and inspect data"
      ]
    },
    {
      "cell_type": "code",
      "metadata": {
        "id": "htTPS1UlXOo-"
      },
      "source": [
        "!pip install pandas sklearn matplotlib seaborn"
      ],
      "execution_count": null,
      "outputs": []
    },
    {
      "cell_type": "code",
      "metadata": {
        "id": "_1RMZ9123XRP"
      },
      "source": [
        "import json\n",
        "from pathlib import Path\n",
        "import pandas as pd\n",
        "from collections import Counter\n",
        "from sklearn.model_selection import train_test_split\n",
        "import numpy as np\n",
        "import matplotlib.pyplot as plt\n",
        "import seaborn as sns\n",
        "import re"
      ],
      "execution_count": 36,
      "outputs": []
    },
    {
      "cell_type": "code",
      "metadata": {
        "id": "sdpaz1fd3XRQ"
      },
      "source": [
        "# data_path = Path('/content/drive/MyDrive/colab/Monoxor/requests.json') # path for .json file\n",
        "data_path = Path('requests.json')\n",
        "with open(data_path) as f:\n",
        "    data = json.load(f)"
      ],
      "execution_count": 38,
      "outputs": []
    },
    {
      "cell_type": "code",
      "metadata": {
        "id": "IIPA5YoN3XRQ"
      },
      "source": [
        "n_requests = len(data)"
      ],
      "execution_count": 4,
      "outputs": []
    },
    {
      "cell_type": "code",
      "metadata": {
        "id": "0xyxfJdU3XRR"
      },
      "source": [
        "a_req = data[0]"
      ],
      "execution_count": 5,
      "outputs": []
    },
    {
      "cell_type": "code",
      "metadata": {
        "id": "v8Y9182l3XRR"
      },
      "source": [
        "def get_value_of(req, f_key):\n",
        "    '''\n",
        "        req: dict, in which the value of a certain key is to be found\n",
        "        f_key: string, key whose value is to be found\n",
        "        return: value\n",
        "    '''\n",
        "    def f(elm):\n",
        "        if type(elm) == dict:\n",
        "            keys = elm.keys()\n",
        "            if f_key in keys:\n",
        "                return elm[f_key]\n",
        "            else:\n",
        "                for key in keys:\n",
        "                    value = f(elm[key])\n",
        "                    if value is not None:\n",
        "                        return value\n",
        "        \n",
        "    return f(req)"
      ],
      "execution_count": 6,
      "outputs": []
    },
    {
      "cell_type": "code",
      "metadata": {
        "colab": {
          "base_uri": "https://localhost:8080/"
        },
        "id": "hSWfFlfF3XRS",
        "outputId": "e66c2f47-dfd9-4b52-9f32-903d48dc7fa3"
      },
      "source": [
        "for req in data[:5]:\n",
        "    print(get_value_of(req, 'desc'), end='\\n'*2)"
      ],
      "execution_count": 7,
      "outputs": [
        {
          "output_type": "stream",
          "text": [
            "Top recognize eat. Fact whom spend area thing material.\n",
            "War no recent also message four billion. Water those deep.\n",
            "Word amount table entire. Drug several the amount live newspaper.\n",
            "\n",
            "As possible American many prepare four strong. Visit care be organization everyone kitchen development magazine. Range realize direction wife capital move.\n",
            "\n",
            "Tuesday Notes or 2 like 2 XSP Class\n",
            "\n",
            "State third represent energy campaign not forget there. Experience send these just heart suggest. Study paper common car kitchen it.\n",
            "Such time management tree. Real like agency rule.\n",
            "\n",
            "Us enjoy since. Time identify image position ok here best. Box can throw yeah without.\n",
            "Left explain author protect throw artist lot fly. Thing year approach through miss bank.\n",
            "\n"
          ],
          "name": "stdout"
        }
      ]
    },
    {
      "cell_type": "code",
      "metadata": {
        "scrolled": true,
        "colab": {
          "base_uri": "https://localhost:8080/"
        },
        "id": "VVzVZkGK3XRU",
        "outputId": "8f25e1a3-689b-4abc-8444-11218752ae6f"
      },
      "source": [
        "values = []\n",
        "for req in data:\n",
        "    values.append(get_value_of(req, 'isSafe'))\n",
        "print(dict(Counter(values)))"
      ],
      "execution_count": 8,
      "outputs": [
        {
          "output_type": "stream",
          "text": [
            "{True: 572, False: 428}\n"
          ],
          "name": "stdout"
        }
      ]
    },
    {
      "cell_type": "code",
      "metadata": {
        "id": "2KijGZR73XRV"
      },
      "source": [
        "df = pd.DataFrame(columns=['desc', 'isSafe'], index=range(n_requests))\n",
        "\n",
        "for i, req in enumerate(data):\n",
        "    desc = get_value_of(req, 'desc')\n",
        "    isSafe = get_value_of(req, 'isSafe')\n",
        "    df.iloc[i, :] = desc, isSafe"
      ],
      "execution_count": 9,
      "outputs": []
    },
    {
      "cell_type": "code",
      "metadata": {
        "scrolled": true,
        "id": "OnG3V__e3XRW"
      },
      "source": [
        "# shuffle all records\n",
        "df = df.sample(frac=1, random_state=123).reset_index(drop=True)"
      ],
      "execution_count": 10,
      "outputs": []
    },
    {
      "cell_type": "code",
      "metadata": {
        "colab": {
          "base_uri": "https://localhost:8080/",
          "height": 197
        },
        "id": "2QukTMCE3XRX",
        "outputId": "7d9505d4-d972-4e00-ec1c-fed119163ff5"
      },
      "source": [
        "df.head()"
      ],
      "execution_count": 11,
      "outputs": [
        {
          "output_type": "execute_result",
          "data": {
            "text/html": [
              "<div>\n",
              "<style scoped>\n",
              "    .dataframe tbody tr th:only-of-type {\n",
              "        vertical-align: middle;\n",
              "    }\n",
              "\n",
              "    .dataframe tbody tr th {\n",
              "        vertical-align: top;\n",
              "    }\n",
              "\n",
              "    .dataframe thead th {\n",
              "        text-align: right;\n",
              "    }\n",
              "</style>\n",
              "<table border=\"1\" class=\"dataframe\">\n",
              "  <thead>\n",
              "    <tr style=\"text-align: right;\">\n",
              "      <th></th>\n",
              "      <th>desc</th>\n",
              "      <th>isSafe</th>\n",
              "    </tr>\n",
              "  </thead>\n",
              "  <tbody>\n",
              "    <tr>\n",
              "      <th>0</th>\n",
              "      <td>Tuesday Notes or 2 like 2 XSP Class</td>\n",
              "      <td>False</td>\n",
              "    </tr>\n",
              "    <tr>\n",
              "      <th>1</th>\n",
              "      <td>Huge whole take yourself throw and customer mo...</td>\n",
              "      <td>True</td>\n",
              "    </tr>\n",
              "    <tr>\n",
              "      <th>2</th>\n",
              "      <td>text1&lt;video src=1 href=1 onerror=\"javascript:a...</td>\n",
              "      <td>False</td>\n",
              "    </tr>\n",
              "    <tr>\n",
              "      <th>3</th>\n",
              "      <td>Hotel trade need fine recognize any. Research ...</td>\n",
              "      <td>True</td>\n",
              "    </tr>\n",
              "    <tr>\n",
              "      <th>4</th>\n",
              "      <td>Tree measure these prove develop American.\\nBe...</td>\n",
              "      <td>False</td>\n",
              "    </tr>\n",
              "  </tbody>\n",
              "</table>\n",
              "</div>"
            ],
            "text/plain": [
              "                                                desc isSafe\n",
              "0                Tuesday Notes or 2 like 2 XSP Class  False\n",
              "1  Huge whole take yourself throw and customer mo...   True\n",
              "2  text1<video src=1 href=1 onerror=\"javascript:a...  False\n",
              "3  Hotel trade need fine recognize any. Research ...   True\n",
              "4  Tree measure these prove develop American.\\nBe...  False"
            ]
          },
          "metadata": {
            "tags": []
          },
          "execution_count": 11
        }
      ]
    },
    {
      "cell_type": "code",
      "metadata": {
        "scrolled": true,
        "colab": {
          "base_uri": "https://localhost:8080/"
        },
        "id": "87W1qbJV3XRY",
        "outputId": "f4172756-68d2-4eb3-97b4-6657040e088c"
      },
      "source": [
        "df.shape"
      ],
      "execution_count": 12,
      "outputs": [
        {
          "output_type": "execute_result",
          "data": {
            "text/plain": [
              "(1000, 2)"
            ]
          },
          "metadata": {
            "tags": []
          },
          "execution_count": 12
        }
      ]
    },
    {
      "cell_type": "markdown",
      "metadata": {
        "id": "KKPWfuut3XRZ"
      },
      "source": [
        "### x and y"
      ]
    },
    {
      "cell_type": "code",
      "metadata": {
        "id": "sK0HjC9T3XRZ"
      },
      "source": [
        "x = list(df['desc'].values)\n",
        "y = list(df['isSafe'].values.astype('uint8')) # true->1, fasle->0"
      ],
      "execution_count": 13,
      "outputs": []
    },
    {
      "cell_type": "markdown",
      "metadata": {
        "id": "VzvjSooe4r_a"
      },
      "source": [
        "### cleaning text"
      ]
    },
    {
      "cell_type": "code",
      "metadata": {
        "id": "4Yk776EzchK9"
      },
      "source": [
        "# removing all digits and punctuations\r\n",
        "pattern = re.compile(r'[\\W\\d]+')\r\n",
        "for i in range(n_requests):\r\n",
        "  x[i] = re.sub(pattern, ' ', x[i])"
      ],
      "execution_count": 16,
      "outputs": []
    },
    {
      "cell_type": "markdown",
      "metadata": {
        "id": "XYs-Zpm73XRZ"
      },
      "source": [
        "### train-val split"
      ]
    },
    {
      "cell_type": "code",
      "metadata": {
        "id": "lLcNI4sH3XRa"
      },
      "source": [
        " x_train, x_val, y_train, y_val = train_test_split(x, y, test_size=0.25, stratify=y, random_state=123)"
      ],
      "execution_count": 17,
      "outputs": []
    },
    {
      "cell_type": "code",
      "metadata": {
        "id": "c1rTNxT-3XRa",
        "colab": {
          "base_uri": "https://localhost:8080/"
        },
        "outputId": "358c62aa-3026-4d62-e3b8-3f1e6a14e005"
      },
      "source": [
        "print(len(x_train))\n",
        "print(len(y_train))\n",
        "print(len(x_val))\n",
        "print(len(y_val))"
      ],
      "execution_count": 18,
      "outputs": [
        {
          "output_type": "stream",
          "text": [
            "750\n",
            "750\n",
            "250\n",
            "250\n"
          ],
          "name": "stdout"
        }
      ]
    },
    {
      "cell_type": "markdown",
      "metadata": {
        "id": "gD-NeoeVeTWv"
      },
      "source": [
        "## Using TF-IDF"
      ]
    },
    {
      "cell_type": "markdown",
      "metadata": {
        "id": "jq5LnGDtfLo-"
      },
      "source": [
        "### prep"
      ]
    },
    {
      "cell_type": "code",
      "metadata": {
        "id": "vjljVQ3qedG6"
      },
      "source": [
        "from sklearn.feature_extraction.text import TfidfVectorizer"
      ],
      "execution_count": 19,
      "outputs": []
    },
    {
      "cell_type": "code",
      "metadata": {
        "colab": {
          "base_uri": "https://localhost:8080/"
        },
        "id": "olpNuI4ueV8k",
        "outputId": "2d1dfcc5-318a-427d-815e-d638dd9fde71"
      },
      "source": [
        "vectorizer = TfidfVectorizer(ngram_range=(1, 1))\r\n",
        "vectorizer.fit(x_train)"
      ],
      "execution_count": 20,
      "outputs": [
        {
          "output_type": "execute_result",
          "data": {
            "text/plain": [
              "TfidfVectorizer(analyzer='word', binary=False, decode_error='strict',\n",
              "                dtype=<class 'numpy.float64'>, encoding='utf-8',\n",
              "                input='content', lowercase=True, max_df=1.0, max_features=None,\n",
              "                min_df=1, ngram_range=(1, 1), norm='l2', preprocessor=None,\n",
              "                smooth_idf=True, stop_words=None, strip_accents=None,\n",
              "                sublinear_tf=False, token_pattern='(?u)\\\\b\\\\w\\\\w+\\\\b',\n",
              "                tokenizer=None, use_idf=True, vocabulary=None)"
            ]
          },
          "metadata": {
            "tags": []
          },
          "execution_count": 20
        }
      ]
    },
    {
      "cell_type": "code",
      "metadata": {
        "colab": {
          "base_uri": "https://localhost:8080/"
        },
        "id": "NT2OavWrevOU",
        "outputId": "060e4e0b-726c-49e4-e76d-56d6eb9c478e"
      },
      "source": [
        "x_train_vec = vectorizer.transform(x_train)\r\n",
        "x_val_vec = vectorizer.transform(x_val)\r\n",
        "x_train_vec, x_val_vec"
      ],
      "execution_count": 21,
      "outputs": [
        {
          "output_type": "execute_result",
          "data": {
            "text/plain": [
              "(<750x993 sparse matrix of type '<class 'numpy.float64'>'\n",
              " \twith 13417 stored elements in Compressed Sparse Row format>,\n",
              " <250x993 sparse matrix of type '<class 'numpy.float64'>'\n",
              " \twith 4482 stored elements in Compressed Sparse Row format>)"
            ]
          },
          "metadata": {
            "tags": []
          },
          "execution_count": 21
        }
      ]
    },
    {
      "cell_type": "code",
      "metadata": {
        "colab": {
          "base_uri": "https://localhost:8080/"
        },
        "id": "ReiwlDAie3Lz",
        "outputId": "e97d1a07-678e-47b6-aeb3-0b6499cb4525"
      },
      "source": [
        "print(x_train_vec.shape)\r\n",
        "embedding_size = x_train_vec.shape[1]"
      ],
      "execution_count": 22,
      "outputs": [
        {
          "output_type": "stream",
          "text": [
            "(750, 993)\n"
          ],
          "name": "stdout"
        }
      ]
    },
    {
      "cell_type": "code",
      "metadata": {
        "colab": {
          "base_uri": "https://localhost:8080/"
        },
        "id": "zBP9zTdWe7rR",
        "outputId": "56fcb10c-f82d-405e-af34-fef03d4c6a17"
      },
      "source": [
        "len(vectorizer.vocabulary_)"
      ],
      "execution_count": 23,
      "outputs": [
        {
          "output_type": "execute_result",
          "data": {
            "text/plain": [
              "993"
            ]
          },
          "metadata": {
            "tags": []
          },
          "execution_count": 23
        }
      ]
    },
    {
      "cell_type": "markdown",
      "metadata": {
        "id": "XnG6cE6GXBaT"
      },
      "source": [
        "### Feature Selection\n",
        "Chi-square test measures dependence between stochastic variables, so using this function “weeds out” the features that are the most likely to be independent of class and therefore irrelevant for classification."
      ]
    },
    {
      "cell_type": "code",
      "metadata": {
        "colab": {
          "base_uri": "https://localhost:8080/"
        },
        "id": "9eZdPs2fXBaU",
        "outputId": "ab0c448d-c61d-46f9-9214-538bb3d29ef0"
      },
      "source": [
        "from sklearn.feature_selection import SelectKBest, chi2\n",
        "\n",
        "ch2 = SelectKBest(chi2, k=900)\n",
        "x_train_vec_f = ch2.fit_transform(x_train_vec, y_train)\n",
        "x_val_vec_f = ch2.transform(x_val_vec)\n",
        "\n",
        "x_train_vec_f, x_val_vec_f"
      ],
      "execution_count": 24,
      "outputs": [
        {
          "output_type": "execute_result",
          "data": {
            "text/plain": [
              "(<750x900 sparse matrix of type '<class 'numpy.float64'>'\n",
              " \twith 12284 stored elements in Compressed Sparse Row format>,\n",
              " <250x900 sparse matrix of type '<class 'numpy.float64'>'\n",
              " \twith 4055 stored elements in Compressed Sparse Row format>)"
            ]
          },
          "metadata": {
            "tags": []
          },
          "execution_count": 24
        }
      ]
    },
    {
      "cell_type": "markdown",
      "metadata": {
        "id": "jy4aAoCrc6Qy"
      },
      "source": [
        "### Helper Functions"
      ]
    },
    {
      "cell_type": "code",
      "metadata": {
        "id": "gGjUf52Zg46n"
      },
      "source": [
        "from sklearn.metrics import accuracy_score, f1_score, confusion_matrix"
      ],
      "execution_count": 25,
      "outputs": []
    },
    {
      "cell_type": "code",
      "metadata": {
        "id": "9XmIwsn6ERyk"
      },
      "source": [
        "def show_result(y_true, y_pred, cm=True):\n",
        "    print('Accuracy: ', accuracy_score(y_true, y_pred))\n",
        "    if cm!=False:\n",
        "        cm = confusion_matrix(y_true, y_pred)\n",
        "        plt.figure(figsize=(4, 4))\n",
        "        sns.heatmap(cm, annot=True, fmt='.2f');"
      ],
      "execution_count": 26,
      "outputs": []
    },
    {
      "cell_type": "markdown",
      "metadata": {
        "id": "TPXdpFM0ERzJ"
      },
      "source": [
        "### Logitic Regression"
      ]
    },
    {
      "cell_type": "code",
      "metadata": {
        "id": "lR3HNovIERzM"
      },
      "source": [
        "from sklearn.linear_model import LogisticRegression"
      ],
      "execution_count": 27,
      "outputs": []
    },
    {
      "cell_type": "code",
      "metadata": {
        "colab": {
          "base_uri": "https://localhost:8080/"
        },
        "id": "Vwle2PECERzX",
        "outputId": "89c3be35-ad85-49a7-c4de-822e67c1191f"
      },
      "source": [
        "lr = LogisticRegression()\n",
        "lr.fit(x_train_vec_f, y_train)"
      ],
      "execution_count": 28,
      "outputs": [
        {
          "output_type": "execute_result",
          "data": {
            "text/plain": [
              "LogisticRegression(C=1.0, class_weight=None, dual=False, fit_intercept=True,\n",
              "                   intercept_scaling=1, l1_ratio=None, max_iter=100,\n",
              "                   multi_class='auto', n_jobs=None, penalty='l2',\n",
              "                   random_state=None, solver='lbfgs', tol=0.0001, verbose=0,\n",
              "                   warm_start=False)"
            ]
          },
          "metadata": {
            "tags": []
          },
          "execution_count": 28
        }
      ]
    },
    {
      "cell_type": "code",
      "metadata": {
        "id": "kfqwQxMBERzg"
      },
      "source": [
        "pred_train = lr.predict(x_train_vec_f)\n",
        "pred_val = lr.predict(x_val_vec_f)"
      ],
      "execution_count": 29,
      "outputs": []
    },
    {
      "cell_type": "code",
      "metadata": {
        "colab": {
          "base_uri": "https://localhost:8080/",
          "height": 0
        },
        "id": "Vyl2i-K4ERzt",
        "outputId": "2d6fb14d-3bab-4e6c-8ccf-cce10d864c04"
      },
      "source": [
        "print('Train')\n",
        "show_result(y_train, pred_train)"
      ],
      "execution_count": 30,
      "outputs": [
        {
          "output_type": "stream",
          "text": [
            "Train\n",
            "Accuracy:  0.8213333333333334\n"
          ],
          "name": "stdout"
        },
        {
          "output_type": "display_data",
          "data": {
            "image/png": "[encoded data removed]",
            "text/plain": [
              "<Figure size 288x288 with 2 Axes>"
            ]
          },
          "metadata": {
            "tags": [],
            "needs_background": "light"
          }
        }
      ]
    },
    {
      "cell_type": "code",
      "metadata": {
        "colab": {
          "base_uri": "https://localhost:8080/",
          "height": 0
        },
        "id": "xQ3_KRM7FAqF",
        "outputId": "8c3d97f9-87aa-494d-8b6e-d68498f5d92c"
      },
      "source": [
        "print('val')\r\n",
        "show_result(y_val, pred_val, cm=True)"
      ],
      "execution_count": 31,
      "outputs": [
        {
          "output_type": "stream",
          "text": [
            "val\n",
            "Accuracy:  0.868\n"
          ],
          "name": "stdout"
        },
        {
          "output_type": "display_data",
          "data": {
            "image/png": "[encoded data removed]",
            "text/plain": [
              "<Figure size 288x288 with 2 Axes>"
            ]
          },
          "metadata": {
            "tags": [],
            "needs_background": "light"
          }
        }
      ]
    },
    {
      "cell_type": "markdown",
      "metadata": {
        "id": "UlP5-LjIGbIw"
      },
      "source": [
        "### What else did I try?\r\n",
        "- GloVe embedding with LSTM - Got similar results\r\n",
        "- Distill Bert algorithm - Got similar results"
      ]
    }
  ]
}